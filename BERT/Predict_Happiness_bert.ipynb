{
  "nbformat": 4,
  "nbformat_minor": 0,
  "metadata": {
    "accelerator": "GPU",
    "colab": {
      "name": "Predict_Happiness_bert.ipynb",
      "provenance": [],
      "collapsed_sections": [],
      "toc_visible": true
    },
    "kernelspec": {
      "display_name": "Python 3",
      "name": "python3"
    }
  },
  "cells": [
    {
      "cell_type": "markdown",
      "metadata": {
        "id": "s2d9S2CSSO1z"
      },
      "source": [
        "## Setup"
      ]
    },
    {
      "cell_type": "markdown",
      "metadata": {
        "id": "fsACVQpVSifi"
      },
      "source": [
        "### Install the TensorFlow Model Garden pip package\n",
        "\n",
        "*  `tf-models-official` is the stable Model Garden package. Note that it may not include the latest changes in the `tensorflow_models` github repo. To include latest changes, you may install `tf-models-nightly`,\n",
        "which is the nightly Model Garden package created daily automatically.\n",
        "*  pip will install all models and dependencies automatically."
      ]
    },
    {
      "cell_type": "code",
      "metadata": {
        "id": "NvNr2svBM-p3",
        "colab": {
          "base_uri": "https://localhost:8080/"
        },
        "outputId": "2f112465-b6db-4a98-c35d-ac79ca469e75"
      },
      "source": [
        "!pip install -q tf-models-official==2.3.0"
      ],
      "execution_count": 2,
      "outputs": [
        {
          "output_type": "stream",
          "text": [
            "\u001b[K     |████████████████████████████████| 849kB 8.5MB/s \n",
            "\u001b[K     |████████████████████████████████| 358kB 27.9MB/s \n",
            "\u001b[K     |████████████████████████████████| 174kB 35.6MB/s \n",
            "\u001b[K     |████████████████████████████████| 102kB 13.1MB/s \n",
            "\u001b[K     |████████████████████████████████| 37.6MB 80kB/s \n",
            "\u001b[K     |████████████████████████████████| 1.2MB 41.3MB/s \n",
            "\u001b[?25h  Building wheel for py-cpuinfo (setup.py) ... \u001b[?25l\u001b[?25hdone\n"
          ],
          "name": "stdout"
        }
      ]
    },
    {
      "cell_type": "markdown",
      "metadata": {
        "id": "U-7qPCjWUAyy"
      },
      "source": [
        "### Imports"
      ]
    },
    {
      "cell_type": "code",
      "metadata": {
        "id": "lXsXev5MNr20"
      },
      "source": [
        "import os\n",
        "\n",
        "import numpy as np\n",
        "import matplotlib.pyplot as plt\n",
        "\n",
        "import tensorflow as tf\n",
        "\n",
        "import tensorflow_hub as hub\n",
        "import tensorflow_datasets as tfds\n",
        "tfds.disable_progress_bar()\n",
        "\n",
        "from official.modeling import tf_utils\n",
        "from official import nlp\n",
        "from official.nlp import bert\n",
        "\n",
        "# Load the required submodules\n",
        "import official.nlp.optimization\n",
        "import official.nlp.bert.bert_models\n",
        "import official.nlp.bert.configs\n",
        "import official.nlp.bert.run_classifier\n",
        "import official.nlp.bert.tokenization\n",
        "import official.nlp.data.classifier_data_lib\n",
        "import official.nlp.modeling.losses\n",
        "import official.nlp.modeling.models\n",
        "import official.nlp.modeling.networks"
      ],
      "execution_count": 3,
      "outputs": []
    },
    {
      "cell_type": "code",
      "metadata": {
        "id": "PIxd2MdpJold",
        "colab": {
          "base_uri": "https://localhost:8080/"
        },
        "outputId": "1b5a2b01-e350-44f5-9352-d163eeefd26e"
      },
      "source": [
        "from google.colab import drive\n",
        "drive.mount('/content/drive')"
      ],
      "execution_count": null,
      "outputs": [
        {
          "output_type": "stream",
          "text": [
            "Mounted at /content/drive\n"
          ],
          "name": "stdout"
        }
      ]
    },
    {
      "cell_type": "markdown",
      "metadata": {
        "id": "mbanlzTvJBsz"
      },
      "source": [
        "### Resources"
      ]
    },
    {
      "cell_type": "markdown",
      "metadata": {
        "id": "PpW0x8TpR8DT"
      },
      "source": [
        "This directory contains the configuration, vocabulary, and a pre-trained checkpoint used in this tutorial:"
      ]
    },
    {
      "cell_type": "code",
      "metadata": {
        "id": "vzRHOLciR8eq",
        "colab": {
          "base_uri": "https://localhost:8080/"
        },
        "outputId": "3f58e133-a1bc-4884-b397-d06fb9f9d8ec"
      },
      "source": [
        "gs_folder_bert = \"gs://cloud-tpu-checkpoints/bert/keras_bert/uncased_L-12_H-768_A-12\"\n",
        "tf.io.gfile.listdir(gs_folder_bert)"
      ],
      "execution_count": 4,
      "outputs": [
        {
          "output_type": "execute_result",
          "data": {
            "text/plain": [
              "['bert_config.json',\n",
              " 'bert_model.ckpt.data-00000-of-00001',\n",
              " 'bert_model.ckpt.index',\n",
              " 'vocab.txt']"
            ]
          },
          "metadata": {
            "tags": []
          },
          "execution_count": 4
        }
      ]
    },
    {
      "cell_type": "markdown",
      "metadata": {
        "id": "Qv6abtRvH4xO"
      },
      "source": [
        "## The data"
      ]
    },
    {
      "cell_type": "code",
      "metadata": {
        "id": "gA-MvxjLrzvi"
      },
      "source": [
        "from sklearn.model_selection import train_test_split\r\n",
        "import pandas as pd"
      ],
      "execution_count": 5,
      "outputs": []
    },
    {
      "cell_type": "code",
      "metadata": {
        "id": "SxYshOipr55l"
      },
      "source": [
        "hm = pd.read_csv('/content/drive/MyDrive/Happiness-prediction/hm_train.csv')\r\n",
        "hm = hm.sample(frac=1).reset_index(drop=True)\r\n",
        "\r\n",
        "X = hm['cleaned_hm'].values\r\n",
        "y = hm['predicted_category'].values\r\n",
        "\r\n",
        "# Splitting out test data\r\n",
        "X, X_test, y, y_test = train_test_split(X, y, test_size=0.2, random_state=42)\r\n",
        "\r\n",
        "X_train, X_cv, y_train, y_cv = train_test_split(X, y, test_size=0.25, random_state=42)"
      ],
      "execution_count": 6,
      "outputs": []
    },
    {
      "cell_type": "markdown",
      "metadata": {
        "id": "vhsVWYNxazz5"
      },
      "source": [
        "The seven classes are:"
      ]
    },
    {
      "cell_type": "code",
      "metadata": {
        "id": "n0gfc_VTayfQ",
        "colab": {
          "base_uri": "https://localhost:8080/"
        },
        "outputId": "add4ef2e-23c8-4410-a203-d6ff9f438913"
      },
      "source": [
        "np.unique(y_train)"
      ],
      "execution_count": 7,
      "outputs": [
        {
          "output_type": "execute_result",
          "data": {
            "text/plain": [
              "array(['achievement', 'affection', 'bonding', 'enjoy_the_moment',\n",
              "       'exercise', 'leisure', 'nature'], dtype=object)"
            ]
          },
          "metadata": {
            "tags": []
          },
          "execution_count": 7
        }
      ]
    },
    {
      "cell_type": "markdown",
      "metadata": {
        "id": "9fbTyfJpNr7x"
      },
      "source": [
        "### The BERT tokenizer"
      ]
    },
    {
      "cell_type": "markdown",
      "metadata": {
        "id": "wqeN54S61ZKQ"
      },
      "source": [
        "To fine tune a pre-trained model you need to be sure that you're using exactly the same tokenization, vocabulary, and index mapping as you used during training.\n",
        "\n",
        "The BERT tokenizer used in this tutorial is written in pure Python (It's not built out of TensorFlow ops). So you can't just plug it into your model as a `keras.layer` like you can with `preprocessing.TextVectorization`.\n",
        "\n",
        "The following code rebuilds the tokenizer that was used by the base model:"
      ]
    },
    {
      "cell_type": "code",
      "metadata": {
        "id": "idxyhmrCQcw5",
        "colab": {
          "base_uri": "https://localhost:8080/"
        },
        "outputId": "29d776b8-89e2-460a-8b9d-65a9266faab1"
      },
      "source": [
        "# Set up tokenizer to generate Tensorflow dataset\n",
        "tokenizer = bert.tokenization.FullTokenizer(\n",
        "    vocab_file=os.path.join(gs_folder_bert, \"vocab.txt\"),\n",
        "     do_lower_case=True)\n",
        "\n",
        "print(\"Vocab size:\", len(tokenizer.vocab))"
      ],
      "execution_count": 8,
      "outputs": [
        {
          "output_type": "stream",
          "text": [
            "Vocab size: 30522\n"
          ],
          "name": "stdout"
        }
      ]
    },
    {
      "cell_type": "markdown",
      "metadata": {
        "id": "zYHDSquU2lDU"
      },
      "source": [
        "Tokenize a sentence:"
      ]
    },
    {
      "cell_type": "code",
      "metadata": {
        "id": "L_OfOYPg853R",
        "colab": {
          "base_uri": "https://localhost:8080/"
        },
        "outputId": "fe2ddfcd-a60e-4b09-b1be-d5bb2bed7019"
      },
      "source": [
        "tokens = tokenizer.tokenize(\"Hello TensorFlow!\")\n",
        "print(tokens)\n",
        "ids = tokenizer.convert_tokens_to_ids(tokens)\n",
        "print(ids)"
      ],
      "execution_count": 9,
      "outputs": [
        {
          "output_type": "stream",
          "text": [
            "['hello', 'tensor', '##flow', '!']\n",
            "[7592, 23435, 12314, 999]\n"
          ],
          "name": "stdout"
        }
      ]
    },
    {
      "cell_type": "markdown",
      "metadata": {
        "id": "kkAXLtuyWWDI"
      },
      "source": [
        "### Preprocess the data\n",
        "\n",
        "The section manually preprocessed the dataset into the format expected by the model.\n",
        "\n",
        "This dataset is small, so preprocessing can be done quickly and easily in memory. For larger datasets the `tf_models` library includes some tools for preprocessing and re-serializing a dataset. See [Appendix: Re-encoding a large dataset](#re_encoding_tools) for details."
      ]
    },
    {
      "cell_type": "markdown",
      "metadata": {
        "id": "62UTWLQd9-LB"
      },
      "source": [
        "#### Encode the sentences\n",
        "\n",
        "The model expects its two inputs sentences to be concatenated together. This input is expected to start with a `[CLS]` \"This is a classification problem\" token, and each sentence should end with a `[SEP]` \"Separator\" token:"
      ]
    },
    {
      "cell_type": "code",
      "metadata": {
        "id": "bdL-dRNRBRJT",
        "colab": {
          "base_uri": "https://localhost:8080/"
        },
        "outputId": "332004fa-4a9a-44f2-8f5f-1deb437aed5c"
      },
      "source": [
        "tokenizer.convert_tokens_to_ids(['[CLS]', '[SEP]'])"
      ],
      "execution_count": 10,
      "outputs": [
        {
          "output_type": "execute_result",
          "data": {
            "text/plain": [
              "[101, 102]"
            ]
          },
          "metadata": {
            "tags": []
          },
          "execution_count": 10
        }
      ]
    },
    {
      "cell_type": "markdown",
      "metadata": {
        "id": "UrPktnqpwqie"
      },
      "source": [
        "Start by encoding all the sentences while appending a `[SEP]` token, and packing them into ragged-tensors:"
      ]
    },
    {
      "cell_type": "code",
      "metadata": {
        "id": "BR7BmtU498Bh"
      },
      "source": [
        "def encode_sentence(s):\n",
        "   tokens = list(tokenizer.tokenize(s))\n",
        "   tokens.append('[SEP]')\n",
        "   return tokenizer.convert_tokens_to_ids(tokens)\n",
        "\n",
        "sentence1 = tf.ragged.constant([\n",
        "    encode_sentence(s) for s in X_train])"
      ],
      "execution_count": 11,
      "outputs": []
    },
    {
      "cell_type": "code",
      "metadata": {
        "id": "has42aUdfky-",
        "colab": {
          "base_uri": "https://localhost:8080/"
        },
        "outputId": "79b8ce15-ad07-44b6-cf14-d1ad1feaf172"
      },
      "source": [
        "print(\"Sentence1 shape:\", sentence1.shape.as_list())"
      ],
      "execution_count": 12,
      "outputs": [
        {
          "output_type": "stream",
          "text": [
            "Sentence1 shape: [36192, None]\n"
          ],
          "name": "stdout"
        }
      ]
    },
    {
      "cell_type": "markdown",
      "metadata": {
        "id": "MU9lTWy_xXbb"
      },
      "source": [
        "Now prepend a `[CLS]` token, and concatenate the ragged tensors to form a single `input_word_ids` tensor for each example. `RaggedTensor.to_tensor()` zero pads to the longest sequence."
      ]
    },
    {
      "cell_type": "code",
      "metadata": {
        "id": "USD8uihw-g4J",
        "colab": {
          "base_uri": "https://localhost:8080/",
          "height": 265
        },
        "outputId": "961a1679-e6ee-4052-fcb3-19a993610d6e"
      },
      "source": [
        "cls = [tokenizer.convert_tokens_to_ids(['[CLS]'])]*sentence1.shape[0]\n",
        "input_word_ids = tf.concat([cls, sentence1], axis=-1)\n",
        "_ = plt.pcolormesh(input_word_ids.to_tensor())"
      ],
      "execution_count": 13,
      "outputs": [
        {
          "output_type": "display_data",
          "data": {
            "image/png": "[encoded data removed]",
            "text/plain": [
              "<Figure size 432x288 with 1 Axes>"
            ]
          },
          "metadata": {
            "tags": [],
            "needs_background": "light"
          }
        }
      ]
    },
    {
      "cell_type": "markdown",
      "metadata": {
        "id": "xmNv4l4k-dBZ"
      },
      "source": [
        "#### Mask and input type"
      ]
    },
    {
      "cell_type": "markdown",
      "metadata": {
        "id": "DIWjNIKq-ldh"
      },
      "source": [
        "The model expects two additional inputs:\n",
        "\n",
        "* The input mask\n",
        "* The input type"
      ]
    },
    {
      "cell_type": "markdown",
      "metadata": {
        "id": "ulNZ4U96-8JZ"
      },
      "source": [
        "The mask allows the model to cleanly differentiate between the content and the padding. The mask has the same shape as the `input_word_ids`, and contains a `1` anywhere the `input_word_ids` is not padding."
      ]
    },
    {
      "cell_type": "code",
      "metadata": {
        "id": "EezOO9qj91kP",
        "colab": {
          "base_uri": "https://localhost:8080/",
          "height": 281
        },
        "outputId": "e1fd7d71-d4e0-44a3-e3c4-0ec112c04fef"
      },
      "source": [
        "input_mask = tf.ones_like(input_word_ids).to_tensor()\n",
        "\n",
        "plt.pcolormesh(input_mask)"
      ],
      "execution_count": 14,
      "outputs": [
        {
          "output_type": "execute_result",
          "data": {
            "text/plain": [
              "<matplotlib.collections.QuadMesh at 0x7f88eee77160>"
            ]
          },
          "metadata": {
            "tags": []
          },
          "execution_count": 14
        },
        {
          "output_type": "display_data",
          "data": {
            "image/png": "[encoded data removed]",
            "text/plain": [
              "<Figure size 432x288 with 1 Axes>"
            ]
          },
          "metadata": {
            "tags": [],
            "needs_background": "light"
          }
        }
      ]
    },
    {
      "cell_type": "markdown",
      "metadata": {
        "id": "rxLenwAvCkBf"
      },
      "source": [
        "The \"input type\" also has the same shape, but inside the non-padded region, contains a `0` or a `1` indicating which sentence the token is a part of. "
      ]
    },
    {
      "cell_type": "code",
      "metadata": {
        "id": "2CetH_5C9P2m",
        "colab": {
          "base_uri": "https://localhost:8080/",
          "height": 281
        },
        "outputId": "24afd915-cfdd-4e0e-9bad-d974001832ad"
      },
      "source": [
        "type_cls = tf.zeros_like(cls)\n",
        "type_s1 = tf.zeros_like(sentence1)\n",
        "input_type_ids = tf.concat([type_cls, type_s1], axis=-1).to_tensor()\n",
        "\n",
        "plt.pcolormesh(input_type_ids)"
      ],
      "execution_count": 15,
      "outputs": [
        {
          "output_type": "execute_result",
          "data": {
            "text/plain": [
              "<matplotlib.collections.QuadMesh at 0x7f88ef3e6d68>"
            ]
          },
          "metadata": {
            "tags": []
          },
          "execution_count": 0
        },
        {
          "output_type": "display_data",
          "data": {
            "image/png": "[encoded data removed]",
            "text/plain": [
              "<Figure size 432x288 with 1 Axes>"
            ]
          },
          "metadata": {
            "tags": [],
            "needs_background": "light"
          }
        }
      ]
    },
    {
      "cell_type": "markdown",
      "metadata": {
        "id": "P5UBnCn8Ii6s"
      },
      "source": [
        "#### Put it all together\n",
        "\n",
        "Collect the above text parsing code into a single function, and apply it to each split of the dataset."
      ]
    },
    {
      "cell_type": "code",
      "metadata": {
        "id": "sDGiWYPLEd5a"
      },
      "source": [
        "def encode_sentence(s, tokenizer, max_seq_length):\n",
        "   tokens = list(tokenizer.tokenize(s))\n",
        "   if(len(tokens)>max_seq_length-2):\n",
        "     tokens = tokens[:max_seq_length-3]\n",
        "   tokens.append('[SEP]')\n",
        "   return tokenizer.convert_tokens_to_ids(tokens)\n",
        "\n",
        "def bert_encode(data, tokenizer, max_seq_length):\n",
        "  num_examples = len(data)\n",
        "  \n",
        "  sentence1 = tf.ragged.constant([\n",
        "      encode_sentence(s, tokenizer, max_seq_length)\n",
        "      for s in data])\n",
        "\n",
        "  cls = [tokenizer.convert_tokens_to_ids(['[CLS]'])]*sentence1.shape[0]\n",
        "  input_word_ids = tf.concat([cls, sentence1], axis=-1)\n",
        "\n",
        "  input_mask = tf.ones_like(input_word_ids).to_tensor()\n",
        "\n",
        "  type_cls = tf.zeros_like(cls)\n",
        "  type_s1 = tf.zeros_like(sentence1)\n",
        "  input_type_ids = tf.concat(\n",
        "      [type_cls, type_s1], axis=-1).to_tensor()\n",
        "\n",
        "  inputs = {\n",
        "      'input_word_ids': input_word_ids.to_tensor(),\n",
        "      'input_mask': input_mask,\n",
        "      'input_type_ids': input_type_ids}\n",
        "\n",
        "  return inputs"
      ],
      "execution_count": 16,
      "outputs": []
    },
    {
      "cell_type": "code",
      "metadata": {
        "id": "yuLKxf6zHxw-"
      },
      "source": [
        "train = bert_encode(X_train, tokenizer, max_seq_length=128)\n",
        "train_labels = y_train\n",
        "\n",
        "validation = bert_encode(X_cv, tokenizer, max_seq_length=128)\n",
        "validation_labels = y_cv\n",
        "\n",
        "test = bert_encode(X_test, tokenizer, max_seq_length=128)\n",
        "test_labels  = y_test"
      ],
      "execution_count": 17,
      "outputs": []
    },
    {
      "cell_type": "markdown",
      "metadata": {
        "id": "7FC5aLVxKVKK"
      },
      "source": [
        "Each subset of the data has been converted to a dictionary of features, and a set of labels. Each feature in the input dictionary has the same shape, and the number of labels should match:"
      ]
    },
    {
      "cell_type": "code",
      "metadata": {
        "id": "jyjTdGpFhO_1"
      },
      "source": [
        "for key, value in train.items():\n",
        "  print(f'{key:15s} shape: {value.shape}')\n",
        "\n",
        "print(f'train_labels shape: {train_labels.shape}')"
      ],
      "execution_count": null,
      "outputs": []
    },
    {
      "cell_type": "markdown",
      "metadata": {
        "id": "FSwymsbkbLDA"
      },
      "source": [
        "## The model"
      ]
    },
    {
      "cell_type": "markdown",
      "metadata": {
        "id": "Efrj3Cn1kLAp"
      },
      "source": [
        "### Build the model\n"
      ]
    },
    {
      "cell_type": "markdown",
      "metadata": {
        "id": "xxpOY5r2Ayq6"
      },
      "source": [
        "The first step is to download the configuration  for the pre-trained model.\n"
      ]
    },
    {
      "cell_type": "code",
      "metadata": {
        "id": "ujapVfZ_AKW7"
      },
      "source": [
        "import json\n",
        "\n",
        "bert_config_file = os.path.join(gs_folder_bert, \"bert_config.json\")\n",
        "config_dict = json.loads(tf.io.gfile.GFile(bert_config_file).read())\n",
        "\n",
        "bert_config = bert.configs.BertConfig.from_dict(config_dict)\n",
        "\n",
        "config_dict"
      ],
      "execution_count": null,
      "outputs": []
    },
    {
      "cell_type": "markdown",
      "metadata": {
        "id": "96ldxDSwkVkj"
      },
      "source": [
        "The `config` defines the core BERT Model, which is a Keras model to predict the outputs of `num_classes` from the inputs with maximum sequence length `max_seq_length`.\n",
        "\n",
        "This function returns both the encoder and the classifier."
      ]
    },
    {
      "cell_type": "code",
      "metadata": {
        "id": "cH682__U0FBv"
      },
      "source": [
        "bert_classifier, bert_encoder = bert.bert_models.classifier_model(\n",
        "    bert_config, num_labels=7)"
      ],
      "execution_count": 20,
      "outputs": []
    },
    {
      "cell_type": "markdown",
      "metadata": {
        "id": "XqKp3-5GIZlw"
      },
      "source": [
        "The classifier has three inputs and one output:"
      ]
    },
    {
      "cell_type": "code",
      "metadata": {
        "id": "bAQblMIjwkvx",
        "colab": {
          "base_uri": "https://localhost:8080/",
          "height": 220
        },
        "outputId": "d30aaeb2-3694-487b-9b63-3fd5a28665d8"
      },
      "source": [
        "tf.keras.utils.plot_model(bert_classifier, show_shapes=True, dpi=48)"
      ],
      "execution_count": 21,
      "outputs": [
        {
          "output_type": "execute_result",
          "data": {
            "image/png": "[encoded data removed]",
            "text/plain": [
              "<IPython.core.display.Image object>"
            ]
          },
          "metadata": {
            "tags": []
          },
          "execution_count": 21
        }
      ]
    },
    {
      "cell_type": "markdown",
      "metadata": {
        "id": "sFmVG4SKZAw8"
      },
      "source": [
        "Run it on a test batch of data 10 examples from the training set. The output is the logits for the two classes:"
      ]
    },
    {
      "cell_type": "code",
      "metadata": {
        "id": "VTjgPbp4ZDKo",
        "colab": {
          "base_uri": "https://localhost:8080/"
        },
        "outputId": "03c49cd7-a998-491c-918e-5d3fdbe54a8c"
      },
      "source": [
        "batch = {key: val[:10] for key, val in train.items()}\n",
        "\n",
        "bert_classifier(\n",
        "    batch, training=True\n",
        ").numpy()"
      ],
      "execution_count": 22,
      "outputs": [
        {
          "output_type": "execute_result",
          "data": {
            "text/plain": [
              "array([[-0.16827151,  0.09445365, -0.1250355 , -0.13507591, -0.31652293,\n",
              "         0.28460845,  0.03898121],\n",
              "       [ 0.09085625, -0.00274688,  0.06279959, -0.08558518, -0.3162126 ,\n",
              "         0.17182174,  0.18302205],\n",
              "       [ 0.00127508, -0.16868035, -0.10184933, -0.22363323, -0.30169043,\n",
              "         0.14520562, -0.08618841],\n",
              "       [-0.09390322,  0.01069724, -0.10812154, -0.10328165, -0.18824962,\n",
              "         0.03196074, -0.04455437],\n",
              "       [-0.24448006, -0.30982986,  0.01843985, -0.08917997, -0.25216094,\n",
              "        -0.09019475,  0.1166108 ],\n",
              "       [-0.18560584, -0.04629901, -0.09182698, -0.02980077, -0.35611755,\n",
              "        -0.06764972,  0.13474146],\n",
              "       [-0.08185335, -0.0683575 ,  0.05927845, -0.26925474, -0.25914207,\n",
              "         0.20070887,  0.02668354],\n",
              "       [-0.06553656, -0.05298815,  0.07275144, -0.14371155, -0.28674647,\n",
              "         0.16249232, -0.09828932],\n",
              "       [ 0.05545853, -0.00095854, -0.01238264, -0.06113209, -0.14431483,\n",
              "         0.20264022,  0.19945425],\n",
              "       [-0.27992737,  0.1516363 , -0.1164408 , -0.16524164, -0.29026327,\n",
              "        -0.05807089,  0.05709708]], dtype=float32)"
            ]
          },
          "metadata": {
            "tags": []
          },
          "execution_count": 22
        }
      ]
    },
    {
      "cell_type": "markdown",
      "metadata": {
        "id": "Q0NTdwZsQK8n"
      },
      "source": [
        "The `TransformerEncoder` in the center of the classifier above **is** the `bert_encoder`.\n",
        "\n",
        "Inspecting the encoder, we see its stack of `Transformer` layers connected to those same three inputs:"
      ]
    },
    {
      "cell_type": "code",
      "metadata": {
        "id": "8L__-erBwLIQ",
        "colab": {
          "base_uri": "https://localhost:8080/",
          "height": 1000
        },
        "outputId": "8d4d0e04-1b10-4d82-d7f1-77017fb30961"
      },
      "source": [
        "tf.keras.utils.plot_model(bert_encoder, show_shapes=True, dpi=48)"
      ],
      "execution_count": 23,
      "outputs": [
        {
          "output_type": "execute_result",
          "data": {
            "image/png": "[encoded data removed]",
            "text/plain": [
              "<IPython.core.display.Image object>"
            ]
          },
          "metadata": {
            "tags": []
          },
          "execution_count": 23
        }
      ]
    },
    {
      "cell_type": "markdown",
      "metadata": {
        "id": "mKAvkQc3heSy"
      },
      "source": [
        "### Restore the encoder weights\n",
        "\n",
        "When built the encoder is randomly initialized. Restore the encoder's weights from the checkpoint:"
      ]
    },
    {
      "cell_type": "code",
      "metadata": {
        "id": "97Ll2Gichd_Y",
        "colab": {
          "base_uri": "https://localhost:8080/"
        },
        "outputId": "2ad80caa-6fe3-4bfc-de67-adafed481a6a"
      },
      "source": [
        "checkpoint = tf.train.Checkpoint(model=bert_encoder)\n",
        "checkpoint.restore(\n",
        "    os.path.join(gs_folder_bert, 'bert_model.ckpt')).assert_consumed()"
      ],
      "execution_count": 24,
      "outputs": [
        {
          "output_type": "execute_result",
          "data": {
            "text/plain": [
              "<tensorflow.python.training.tracking.util.CheckpointLoadStatus at 0x7f88eec11d30>"
            ]
          },
          "metadata": {
            "tags": []
          },
          "execution_count": 0
        }
      ]
    },
    {
      "cell_type": "markdown",
      "metadata": {
        "id": "2oHOql35k3Dd"
      },
      "source": [
        "Note: The pretrained `TransformerEncoder` is also available on [TensorFlow Hub](https://tensorflow.org/hub). See the [Hub appendix](#hub_bert) for details. "
      ]
    },
    {
      "cell_type": "markdown",
      "metadata": {
        "id": "115caFLMk-_l"
      },
      "source": [
        "### Set up the optimizer\n",
        "\n",
        "BERT adopts the Adam optimizer with weight decay (aka \"[AdamW](https://arxiv.org/abs/1711.05101)\").\n",
        "It also employs a learning rate schedule that firstly warms up from 0 and then decays to 0."
      ]
    },
    {
      "cell_type": "code",
      "metadata": {
        "id": "w8qXKRZuCwW4"
      },
      "source": [
        "# Set up epochs and steps\n",
        "epochs = 2\n",
        "batch_size = 32\n",
        "eval_batch_size = 32\n",
        "\n",
        "train_data_size = len(train_labels)\n",
        "steps_per_epoch = int(train_data_size / batch_size)\n",
        "num_train_steps = steps_per_epoch * epochs\n",
        "warmup_steps = int(epochs * train_data_size * 0.1 / batch_size)\n",
        "\n",
        "# creates an optimizer with learning rate schedule\n",
        "optimizer = nlp.optimization.create_optimizer(\n",
        "    2e-5, num_train_steps=num_train_steps, num_warmup_steps=warmup_steps)"
      ],
      "execution_count": 25,
      "outputs": []
    },
    {
      "cell_type": "markdown",
      "metadata": {
        "id": "pXRGxiRNEHS2"
      },
      "source": [
        "This returns an `AdamWeightDecay`  optimizer with the learning rate schedule set:"
      ]
    },
    {
      "cell_type": "code",
      "metadata": {
        "id": "eQNA16bhDpky",
        "colab": {
          "base_uri": "https://localhost:8080/"
        },
        "outputId": "d687e680-d286-4537-cf5c-bf56ca9456c9"
      },
      "source": [
        "type(optimizer)"
      ],
      "execution_count": 26,
      "outputs": [
        {
          "output_type": "execute_result",
          "data": {
            "text/plain": [
              "official.nlp.optimization.AdamWeightDecay"
            ]
          },
          "metadata": {
            "tags": []
          },
          "execution_count": 26
        }
      ]
    },
    {
      "cell_type": "markdown",
      "metadata": {
        "id": "xqu_K71fJQB8"
      },
      "source": [
        "To see an example of how to customize the optimizer and it's schedule, see the [Optimizer schedule appendix](#optiizer_schedule)."
      ]
    },
    {
      "cell_type": "markdown",
      "metadata": {
        "id": "78FEUOOEkoP0"
      },
      "source": [
        "### Train the model"
      ]
    },
    {
      "cell_type": "markdown",
      "metadata": {
        "id": "OTNcA0O0nSq9"
      },
      "source": [
        "The metric is accuracy and we use sparse categorical cross-entropy as loss."
      ]
    },
    {
      "cell_type": "code",
      "metadata": {
        "id": "D-6g8x_Q6ttU"
      },
      "source": [
        "from sklearn.preprocessing import LabelEncoder"
      ],
      "execution_count": 27,
      "outputs": []
    },
    {
      "cell_type": "code",
      "metadata": {
        "id": "PEdC7z5860io"
      },
      "source": [
        "le = LabelEncoder()\r\n",
        "train_labels_enc = le.fit_transform(train_labels)\r\n",
        "validation_labels_enc = le.transform(validation_labels)\r\n",
        "test_labels_enc = le.transform(test_labels)"
      ],
      "execution_count": 28,
      "outputs": []
    },
    {
      "cell_type": "code",
      "metadata": {
        "id": "nzi8hjeTQTRs",
        "colab": {
          "base_uri": "https://localhost:8080/"
        },
        "outputId": "6b6da257-06b4-40d8-bd86-7e8e55bf299d"
      },
      "source": [
        "metrics = [tf.keras.metrics.SparseCategoricalAccuracy('accuracy', dtype=tf.float32)]\n",
        "loss = tf.keras.losses.SparseCategoricalCrossentropy(from_logits=True)\n",
        "\n",
        "bert_classifier.compile(\n",
        "    optimizer=optimizer,\n",
        "    loss=loss,\n",
        "    metrics=metrics)\n",
        "\n",
        "bert_classifier.fit(\n",
        "      train, train_labels_enc,\n",
        "      validation_data=(validation, validation_labels_enc),\n",
        "      batch_size=32,\n",
        "      epochs=epochs)"
      ],
      "execution_count": 29,
      "outputs": [
        {
          "output_type": "stream",
          "text": [
            "Epoch 1/2\n",
            "1131/1131 [==============================] - 976s 855ms/step - loss: 0.9471 - accuracy: 0.6626 - val_loss: 0.3479 - val_accuracy: 0.8808\n",
            "Epoch 2/2\n",
            "1131/1131 [==============================] - 967s 855ms/step - loss: 0.2735 - accuracy: 0.9068 - val_loss: 0.3142 - val_accuracy: 0.8921\n"
          ],
          "name": "stdout"
        },
        {
          "output_type": "execute_result",
          "data": {
            "text/plain": [
              "<tensorflow.python.keras.callbacks.History at 0x7f88eec2bb00>"
            ]
          },
          "metadata": {
            "tags": []
          },
          "execution_count": 29
        }
      ]
    },
    {
      "cell_type": "markdown",
      "metadata": {
        "id": "IFtKFWbNKb0u"
      },
      "source": [
        "Now run the fine-tuned model on a custom example to see that it works.\n",
        "\n",
        "Start by encoding some sentence pairs:"
      ]
    },
    {
      "cell_type": "code",
      "metadata": {
        "id": "V5iQUpoAG_Pu",
        "colab": {
          "base_uri": "https://localhost:8080/"
        },
        "outputId": "b6b9ed0f-01f7-403a-bf70-457a7993684d"
      },
      "source": [
        "bert_classifier.evaluate(test, test_labels_enc)"
      ],
      "execution_count": 30,
      "outputs": [
        {
          "output_type": "stream",
          "text": [
            "378/378 [==============================] - 100s 262ms/step - loss: 0.3176 - accuracy: 0.8908\n"
          ],
          "name": "stdout"
        },
        {
          "output_type": "execute_result",
          "data": {
            "text/plain": [
              "[0.31756821274757385, 0.8907583951950073]"
            ]
          },
          "metadata": {
            "tags": []
          },
          "execution_count": 30
        }
      ]
    },
    {
      "cell_type": "code",
      "metadata": {
        "id": "Nl5x6nElZqkP",
        "colab": {
          "base_uri": "https://localhost:8080/"
        },
        "outputId": "94d61047-594d-4953-a41c-bad556882126"
      },
      "source": [
        "export_dir='/content/drive/MyDrive/Happiness-prediction/saved_model'\n",
        "tf.saved_model.save(bert_classifier, export_dir=export_dir)"
      ],
      "execution_count": 31,
      "outputs": [
        {
          "output_type": "stream",
          "text": [
            "WARNING:absl:Found untraced functions such as self_attention_layer_call_fn, self_attention_layer_call_and_return_conditional_losses, attention_output_layer_call_fn, attention_output_layer_call_and_return_conditional_losses, dropout_1_layer_call_fn while saving (showing 5 of 840). These functions will not be directly callable after loading.\n",
            "WARNING:absl:Found untraced functions such as self_attention_layer_call_fn, self_attention_layer_call_and_return_conditional_losses, attention_output_layer_call_fn, attention_output_layer_call_and_return_conditional_losses, dropout_1_layer_call_fn while saving (showing 5 of 840). These functions will not be directly callable after loading.\n"
          ],
          "name": "stderr"
        },
        {
          "output_type": "stream",
          "text": [
            "INFO:tensorflow:Assets written to: /content/drive/MyDrive/Happiness-prediction/saved_model/assets\n"
          ],
          "name": "stdout"
        },
        {
          "output_type": "stream",
          "text": [
            "INFO:tensorflow:Assets written to: /content/drive/MyDrive/Happiness-prediction/saved_model/assets\n"
          ],
          "name": "stderr"
        }
      ]
    },
    {
      "cell_type": "code",
      "metadata": {
        "id": "l3xN7QayR-Fi"
      },
      "source": [
        "reloaded = tf.saved_model.load(export_dir)"
      ],
      "execution_count": 32,
      "outputs": []
    },
    {
      "cell_type": "code",
      "metadata": {
        "id": "9ZoUgDUNJPz3"
      },
      "source": [
        "hm_test = pd.read_csv('/content/drive/MyDrive/Happiness-prediction/hm_test.csv')\n",
        "submission_examples = bert_encode(hm_test['cleaned_hm'].values,tokenizer=tokenizer, max_seq_length=128)"
      ],
      "execution_count": 33,
      "outputs": []
    },
    {
      "cell_type": "code",
      "metadata": {
        "id": "4OK5fgLOc6El"
      },
      "source": [
        "results = bert_classifier.predict(submission_examples)"
      ],
      "execution_count": 37,
      "outputs": []
    },
    {
      "cell_type": "code",
      "metadata": {
        "id": "umo0ttrgRYIM"
      },
      "source": [
        "results_classes = tf.argmax(results, axis=-1).numpy()"
      ],
      "execution_count": 44,
      "outputs": []
    },
    {
      "cell_type": "code",
      "metadata": {
        "id": "utGl0M3aZCE4"
      },
      "source": [
        "# Converting back to named classes & saving results\r\n",
        "pred = pd.DataFrame({'predicted_category': le.inverse_transform(results_classes)})\r\n",
        "data_pred = pd.concat([hm_test, pred], axis=1)"
      ],
      "execution_count": 50,
      "outputs": []
    },
    {
      "cell_type": "code",
      "metadata": {
        "colab": {
          "base_uri": "https://localhost:8080/",
          "height": 202
        },
        "id": "1719qzZmYr9z",
        "outputId": "4e20db06-4c60-4393-e714-0a49905e2a02"
      },
      "source": [
        "data_pred.head()"
      ],
      "execution_count": 51,
      "outputs": [
        {
          "output_type": "execute_result",
          "data": {
            "text/html": [
              "<div>\n",
              "<style scoped>\n",
              "    .dataframe tbody tr th:only-of-type {\n",
              "        vertical-align: middle;\n",
              "    }\n",
              "\n",
              "    .dataframe tbody tr th {\n",
              "        vertical-align: top;\n",
              "    }\n",
              "\n",
              "    .dataframe thead th {\n",
              "        text-align: right;\n",
              "    }\n",
              "</style>\n",
              "<table border=\"1\" class=\"dataframe\">\n",
              "  <thead>\n",
              "    <tr style=\"text-align: right;\">\n",
              "      <th></th>\n",
              "      <th>hmid</th>\n",
              "      <th>reflection_period</th>\n",
              "      <th>cleaned_hm</th>\n",
              "      <th>num_sentence</th>\n",
              "      <th>predicted_category</th>\n",
              "    </tr>\n",
              "  </thead>\n",
              "  <tbody>\n",
              "    <tr>\n",
              "      <th>0</th>\n",
              "      <td>88305</td>\n",
              "      <td>3m</td>\n",
              "      <td>I spent the weekend in Chicago with my friends.</td>\n",
              "      <td>1</td>\n",
              "      <td>bonding</td>\n",
              "    </tr>\n",
              "    <tr>\n",
              "      <th>1</th>\n",
              "      <td>88306</td>\n",
              "      <td>3m</td>\n",
              "      <td>We moved back into our house after a remodel. ...</td>\n",
              "      <td>2</td>\n",
              "      <td>achievement</td>\n",
              "    </tr>\n",
              "    <tr>\n",
              "      <th>2</th>\n",
              "      <td>88307</td>\n",
              "      <td>3m</td>\n",
              "      <td>My fiance proposed to me in front of my family...</td>\n",
              "      <td>1</td>\n",
              "      <td>affection</td>\n",
              "    </tr>\n",
              "    <tr>\n",
              "      <th>3</th>\n",
              "      <td>88308</td>\n",
              "      <td>3m</td>\n",
              "      <td>I ate lobster at a fancy restaurant with some ...</td>\n",
              "      <td>1</td>\n",
              "      <td>bonding</td>\n",
              "    </tr>\n",
              "    <tr>\n",
              "      <th>4</th>\n",
              "      <td>88309</td>\n",
              "      <td>3m</td>\n",
              "      <td>I went out to a nice restaurant on a date with...</td>\n",
              "      <td>5</td>\n",
              "      <td>affection</td>\n",
              "    </tr>\n",
              "  </tbody>\n",
              "</table>\n",
              "</div>"
            ],
            "text/plain": [
              "    hmid reflection_period  ... num_sentence  predicted_category\n",
              "0  88305                3m  ...            1             bonding\n",
              "1  88306                3m  ...            2         achievement\n",
              "2  88307                3m  ...            1           affection\n",
              "3  88308                3m  ...            1             bonding\n",
              "4  88309                3m  ...            5           affection\n",
              "\n",
              "[5 rows x 5 columns]"
            ]
          },
          "metadata": {
            "tags": []
          },
          "execution_count": 51
        }
      ]
    },
    {
      "cell_type": "code",
      "metadata": {
        "id": "uEydgRDGYwh1"
      },
      "source": [
        "data_pred.to_csv('/content/drive/MyDrive/Happiness-prediction/hm_predictions.csv')"
      ],
      "execution_count": 52,
      "outputs": []
    }
  ]
}